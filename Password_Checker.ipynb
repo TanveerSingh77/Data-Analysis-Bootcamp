{
 "cells": [
  {
   "cell_type": "code",
   "execution_count": 7,
   "id": "8c0f5c00-93fc-4510-876c-d75ec7c41be4",
   "metadata": {},
   "outputs": [
    {
     "name": "stdin",
     "output_type": "stream",
     "text": [
      "Set you password: 478\n"
     ]
    },
    {
     "name": "stdout",
     "output_type": "stream",
     "text": [
      "Menu\n"
     ]
    },
    {
     "name": "stdin",
     "output_type": "stream",
     "text": [
      "\n",
      " Enter:\n",
      " 1-login\n",
      " 2-Forget Password\n",
      " Enter your choice: 1\n"
     ]
    },
    {
     "name": "stdout",
     "output_type": "stream",
     "text": [
      "You have 3 attempts to Enter your password\n"
     ]
    },
    {
     "name": "stdin",
     "output_type": "stream",
     "text": [
      "Enter You Password: 4557\n"
     ]
    },
    {
     "name": "stdout",
     "output_type": "stream",
     "text": [
      "Invalid Password,Please try again\n",
      "Now you have 2 attempts left\n"
     ]
    },
    {
     "name": "stdin",
     "output_type": "stream",
     "text": [
      "Enter You Password: 986452\n"
     ]
    },
    {
     "name": "stdout",
     "output_type": "stream",
     "text": [
      "Invalid Password,Please try again\n",
      "Now you have 1 attempts left\n"
     ]
    },
    {
     "name": "stdin",
     "output_type": "stream",
     "text": [
      "Enter You Password: 213\n"
     ]
    },
    {
     "name": "stdout",
     "output_type": "stream",
     "text": [
      "Invalid Password,Please try again\n",
      "Now you have 0 attempts left\n",
      "Too Many Attempts,Try again later\n"
     ]
    }
   ],
   "source": [
    "password=input(\"Set you password:\")\n",
    "print(\"Menu\")\n",
    "choice=input(\"\\n Enter:\\n 1-login\\n 2-Forget Password\\n Enter your choice:\")\n",
    "attempt=3\n",
    "if choice=='1':\n",
    "    print(f\"You have {attempt} attempts to Enter your password\")\n",
    "    while attempt>0:\n",
    "        password_user=input(\"Enter You Password:\")\n",
    "        if password==password_user:\n",
    "            print(\"You Successfully Loged In\")\n",
    "            break\n",
    "        else:\n",
    "            attempt=attempt-1\n",
    "            print(\"Invalid Password,Please try again\")\n",
    "            print(\"Now you have\",attempt,\"attempts left\")\n",
    "            if attempt==0:\n",
    "                print(\"Too Many Attempts,Try again later\")\n",
    "elif choice=='2':\n",
    "    password_new=input(\"Set new password:\")\n",
    "    if password==password_new:\n",
    "        print(\"New Password Cannot be same\")\n",
    "    else:\n",
    "        print(\"Password is now updated\")\n",
    "else:\n",
    "    print(\"Invalid Choice\")"
   ]
  },
  {
   "cell_type": "code",
   "execution_count": null,
   "id": "d7bef2dd-af96-4b0a-9cad-711931be4027",
   "metadata": {},
   "outputs": [],
   "source": []
  }
 ],
 "metadata": {
  "kernelspec": {
   "display_name": "anaconda-panel-2023.05-py310",
   "language": "python",
   "name": "conda-env-anaconda-panel-2023.05-py310-py"
  },
  "language_info": {
   "codemirror_mode": {
    "name": "ipython",
    "version": 3
   },
   "file_extension": ".py",
   "mimetype": "text/x-python",
   "name": "python",
   "nbconvert_exporter": "python",
   "pygments_lexer": "ipython3",
   "version": "3.11.5"
  }
 },
 "nbformat": 4,
 "nbformat_minor": 5
}
